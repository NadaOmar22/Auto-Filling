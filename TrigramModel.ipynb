{
 "cells": [
  {
   "cell_type": "code",
   "execution_count": 171,
   "id": "36a2651d",
   "metadata": {},
   "outputs": [],
   "source": [
    "import nltk\n",
    "import os\n",
    "import string\n",
    "from nltk.corpus import stopwords"
   ]
  },
  {
   "cell_type": "code",
   "execution_count": 172,
   "id": "1ebc101b",
   "metadata": {},
   "outputs": [
    {
     "name": "stderr",
     "output_type": "stream",
     "text": [
      "[nltk_data] Downloading package punkt to\n",
      "[nltk_data]     C:\\Users\\EGYPT_LAPTOP\\AppData\\Roaming\\nltk_data...\n",
      "[nltk_data]   Package punkt is already up-to-date!\n"
     ]
    },
    {
     "data": {
      "text/plain": [
       "True"
      ]
     },
     "execution_count": 172,
     "metadata": {},
     "output_type": "execute_result"
    }
   ],
   "source": [
    "nltk.download('punkt')"
   ]
  },
  {
   "cell_type": "code",
   "execution_count": 173,
   "id": "db581427",
   "metadata": {},
   "outputs": [
    {
     "name": "stderr",
     "output_type": "stream",
     "text": [
      "[nltk_data] Downloading package stopwords to\n",
      "[nltk_data]     C:\\Users\\EGYPT_LAPTOP\\AppData\\Roaming\\nltk_data...\n",
      "[nltk_data]   Package stopwords is already up-to-date!\n"
     ]
    },
    {
     "data": {
      "text/plain": [
       "True"
      ]
     },
     "execution_count": 173,
     "metadata": {},
     "output_type": "execute_result"
    }
   ],
   "source": [
    "nltk.download('stopwords')"
   ]
  },
  {
   "cell_type": "code",
   "execution_count": 174,
   "id": "02900ad6",
   "metadata": {},
   "outputs": [],
   "source": [
    "#reading the input and return list of sentences \n",
    "def readingData(directory_path):\n",
    "    \n",
    "    filesSentences = []\n",
    "    for filename in os.listdir(directory_path):\n",
    "        f = os.path.join(directory_path, filename)\n",
    "        if os.path.isfile(f):\n",
    "            textFile = open(f, \"r\")\n",
    "            fileSentences = textFile.read()\n",
    "            filesSentences.append(fileSentences)\n",
    "            textFile.close()\n",
    "\n",
    "    return filesSentences"
   ]
  },
  {
   "cell_type": "code",
   "execution_count": 175,
   "id": "60e99558",
   "metadata": {},
   "outputs": [],
   "source": [
    "def tokenization(data):\n",
    "    \n",
    "    tokenized = []    \n",
    "    for sentence in data: \n",
    "        tokens = nltk.word_tokenize(sentence)  # Convert sentence to a list of words\n",
    "        tokenized.append(tokens)\n",
    "        \n",
    "    return tokenized"
   ]
  },
  {
   "cell_type": "code",
   "execution_count": 176,
   "id": "10b3bb42",
   "metadata": {},
   "outputs": [],
   "source": [
    "def removeStopWords(sentence):\n",
    "    \n",
    "    newSentence = []\n",
    "    stop_words = set(stopwords.words(\"english\"))\n",
    "    for word in sentence:\n",
    "        if word not in stop_words:\n",
    "            newSentence.append(word)\n",
    "\n",
    "    return newSentence"
   ]
  },
  {
   "cell_type": "code",
   "execution_count": 177,
   "id": "f7f2f1bd",
   "metadata": {},
   "outputs": [],
   "source": [
    "def cleaning (tokenizedData):\n",
    "    \n",
    "    for i in range(len(tokenizedData)):\n",
    "        tokenizedData[i] = [''.join(char for char in word if char not in string.punctuation) for word in tokenizedData[i]] # remove punctuations\n",
    "        tokenizedData[i] = [word for word in tokenizedData[i] if word] # removes empty strings\n",
    "        tokenizedData[i] = [word.lower() for word in tokenizedData[i]] # lower case\n",
    "        tokenizedData[i] = removeStopWords(tokenizedData[i])# removes stop words\n",
    "\n",
    "    return tokenizedData"
   ]
  },
  {
   "cell_type": "code",
   "execution_count": 178,
   "id": "a3f24a62",
   "metadata": {},
   "outputs": [],
   "source": [
    "filesSentences = readingData('./dataset')\n",
    "tokenizedData = tokenization(filesSentences)\n",
    "cleanedData = cleaning(tokenizedData)"
   ]
  },
  {
   "cell_type": "code",
   "execution_count": 179,
   "id": "5b3ff063",
   "metadata": {},
   "outputs": [],
   "source": [
    "def n_grams(data, n):\n",
    "    \n",
    "    n_grams = {} # Empty dict for n-grams\n",
    "    \n",
    "    for sentence in data:\n",
    "        sentence = tuple(sentence)\n",
    "\n",
    "        # Temp var to store length from start of n-gram to end\n",
    "        nGramLength = len(sentence) - (n-1)\n",
    "\n",
    "        for i in range(nGramLength):       \n",
    "            n_gram = sentence[i:i+n]\n",
    "            \n",
    "            # Add the count of n-gram as value to our dictionary\n",
    "            if n_gram in n_grams.keys():\n",
    "                  n_grams[n_gram] += 1\n",
    "            else:\n",
    "                  n_grams[n_gram] = 1\n",
    "\n",
    "    return n_grams"
   ]
  },
  {
   "cell_type": "code",
   "execution_count": 180,
   "id": "945a30c3",
   "metadata": {},
   "outputs": [],
   "source": [
    "def calcProb(nGramFreqDic, nPlusOneFreqDic):\n",
    " \n",
    "    probs  = {}\n",
    "    for key in nPlusOneFreqDic:\n",
    "        numerator = nPlusOneFreqDic.get(key) # get the count of the new sentence (given setence + suggested word) in the corpus.\n",
    "        denominator = nGramFreqDic.get(key[0:len(key)-1]) # get the count of \"given setence\" in the corpus.\n",
    "        if (numerator == 0 or denominator == 0):\n",
    "            probs[key] = 0\n",
    "        else:\n",
    "            probs[key] = float(numerator)/float(denominator)\n",
    "\n",
    "    return probs"
   ]
  },
  {
   "cell_type": "code",
   "execution_count": 181,
   "id": "53b8c436",
   "metadata": {},
   "outputs": [],
   "source": [
    "def getSuggestedWords(previousTokens, probDic):\n",
    "    \n",
    "    suggestedWords = {}\n",
    "    for key in probDic:\n",
    "        if key[0:len(previousTokens)] == previousTokens:\n",
    "            suggestedWords[key[len(previousTokens)]] = probDic.get(key)\n",
    "\n",
    "    suggestedWords = sorted(suggestedWords.items(), key=lambda item: item[1],reverse=True)\n",
    "\n",
    "    words  = []\n",
    "    count = 0\n",
    "    for  tup in suggestedWords:\n",
    "        if (count > 10):\n",
    "            break\n",
    "        words.append(tup[0])\n",
    "        count += 1\n",
    "\n",
    "    return words"
   ]
  },
  {
   "cell_type": "code",
   "execution_count": 182,
   "id": "86be52c1",
   "metadata": {},
   "outputs": [],
   "source": [
    "uniGramFreqDic = n_grams(cleanedData, 1)\n",
    "biGramFreqDic = n_grams(cleanedData, 2)\n",
    "triGramFreqDic = n_grams(cleanedData, 3)"
   ]
  },
  {
   "cell_type": "code",
   "execution_count": 183,
   "id": "009fa5a0",
   "metadata": {},
   "outputs": [],
   "source": [
    "def triGramModel(previousTokens):\n",
    "    previousTokens = tuple(previousTokens)\n",
    "    triGramProbDic = calcProb(biGramFreqDic, triGramFreqDic)\n",
    "    return getSuggestedWords(previousTokens, triGramProbDic)"
   ]
  },
  {
   "cell_type": "code",
   "execution_count": 184,
   "id": "1aac752a",
   "metadata": {},
   "outputs": [],
   "source": [
    "def biGramModel(previousTokens):\n",
    "    previousTokens = tuple(previousTokens)\n",
    "    biGramProbDic = calcProb(uniGramFreqDic, biGramFreqDic)\n",
    "    return getSuggestedWords(previousTokens, biGramProbDic)"
   ]
  },
  {
   "cell_type": "code",
   "execution_count": 185,
   "id": "9f79babf",
   "metadata": {},
   "outputs": [],
   "source": [
    "def autoFill(text):\n",
    "    \n",
    "    tokenizedData = tokenization(text)\n",
    "    cleanedData = cleaning(tokenizedData)\n",
    "\n",
    "    if (len(cleanedData[0]) >= 2):\n",
    "        return triGramModel(cleanedData[0][-2:])\n",
    "\n",
    "    elif (len(cleanedData[0]) == 1):       \n",
    "        return biGramModel(cleanedData[0])"
   ]
  },
  {
   "cell_type": "markdown",
   "id": "5a7f14b8",
   "metadata": {},
   "source": [
    "# GUI"
   ]
  },
  {
   "cell_type": "code",
   "execution_count": 199,
   "id": "7c938aa8",
   "metadata": {},
   "outputs": [],
   "source": [
    "import tkinter as tk\n",
    "from tkinter.ttk import *\n",
    "from PIL import ImageTk, Image"
   ]
  },
  {
   "cell_type": "code",
   "execution_count": 200,
   "id": "96828776",
   "metadata": {},
   "outputs": [],
   "source": [
    "window = tk.Tk()\n",
    "window.configure(bg='white')"
   ]
  },
  {
   "cell_type": "code",
   "execution_count": 201,
   "id": "33fe889b",
   "metadata": {},
   "outputs": [],
   "source": [
    "img = ImageTk.PhotoImage(Image.open(\"./assets/google.png\"))\n",
    "imageLabel = tk.Label(image = img)\n",
    "imageLabel.configure(bg='white')"
   ]
  },
  {
   "cell_type": "code",
   "execution_count": 202,
   "id": "c7ea4ee6",
   "metadata": {},
   "outputs": [],
   "source": [
    "frame = tk.Frame(window)\n",
    "frame.configure(bg='white')"
   ]
  },
  {
   "cell_type": "code",
   "execution_count": 203,
   "id": "e5ea7af8",
   "metadata": {},
   "outputs": [],
   "source": [
    "searchImage = (Image.open(\"./assets/search.png\"))\n",
    "resized_searchImage = searchImage.resize((30,40), Image.Resampling.LANCZOS)\n",
    "new_searchImage = ImageTk.PhotoImage(resized_searchImage)\n",
    "searchImageLabel = tk.Label(frame, image = new_searchImage)\n",
    "searchImageLabel.configure(bg='white')"
   ]
  },
  {
   "cell_type": "code",
   "execution_count": 204,
   "id": "291dc48f",
   "metadata": {},
   "outputs": [
    {
     "data": {
      "text/plain": [
       "'3208798791680check'"
      ]
     },
     "execution_count": 204,
     "metadata": {},
     "output_type": "execute_result"
    }
   ],
   "source": [
    "inputText = tk.Entry(frame, width = 35,  font=('Arial 24'))\n",
    "listbox = tk.Listbox(window, width = 100, font=('Arial 24'))\n",
    "\n",
    "def update(data):\n",
    "    listbox.delete(0, tk.END)\n",
    "    for item in data:\n",
    "        listbox.insert(tk.END, item)\n",
    "    listbox.pack(side='left', padx=450, pady=10)\n",
    "\n",
    "#update entry box with listbox clicked\n",
    "def fillout(event):\n",
    "    if listbox.curselection() != ():\n",
    "        inputText.insert(tk.END, listbox.get(listbox.curselection()))\n",
    "\n",
    "def check(event):\n",
    "    typed = inputText.get()\n",
    "    data  = autoFill([typed])\n",
    "    update(data)\n",
    "\n",
    "listbox.bind(\"<<ListboxSelect>>\", fillout)\n",
    "inputText.bind(\"<space>\", check)"
   ]
  },
  {
   "cell_type": "code",
   "execution_count": 205,
   "id": "1bf59769",
   "metadata": {},
   "outputs": [],
   "source": [
    "cameraImage = (Image.open(\"./assets/camera.png\"))\n",
    "resized_cameraImage= cameraImage.resize((30,40), Image.Resampling.LANCZOS)\n",
    "new_cameraImage= ImageTk.PhotoImage(resized_cameraImage)\n",
    "cameraImageLabel = tk.Label(frame, image = new_cameraImage)\n",
    "cameraImageLabel.configure(bg='white')"
   ]
  },
  {
   "cell_type": "code",
   "execution_count": 206,
   "id": "0cf40b7f",
   "metadata": {},
   "outputs": [],
   "source": [
    "imageLabel.pack(padx= 10, pady=90)\n",
    "searchImageLabel.pack(side='left', expand = True)\n",
    "inputText.pack(side='left', expand = True)\n",
    "cameraImageLabel.pack(side='left', expand = True)\n",
    "frame.pack()"
   ]
  },
  {
   "cell_type": "code",
   "execution_count": 207,
   "id": "db56bbf8",
   "metadata": {},
   "outputs": [],
   "source": [
    "window.mainloop()"
   ]
  }
 ],
 "metadata": {
  "kernelspec": {
   "display_name": "Python 3 (ipykernel)",
   "language": "python",
   "name": "python3"
  },
  "language_info": {
   "codemirror_mode": {
    "name": "ipython",
    "version": 3
   },
   "file_extension": ".py",
   "mimetype": "text/x-python",
   "name": "python",
   "nbconvert_exporter": "python",
   "pygments_lexer": "ipython3",
   "version": "3.9.13"
  }
 },
 "nbformat": 4,
 "nbformat_minor": 5
}
